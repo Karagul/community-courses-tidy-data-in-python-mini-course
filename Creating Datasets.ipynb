{
 "cells": [
  {
   "cell_type": "code",
   "execution_count": 1,
   "metadata": {
    "collapsed": true
   },
   "outputs": [],
   "source": [
    "import pandas as pd\n",
    "import numpy as np"
   ]
  },
  {
   "cell_type": "code",
   "execution_count": 16,
   "metadata": {
    "collapsed": false
   },
   "outputs": [
    {
     "name": "stdout",
     "output_type": "stream",
     "text": [
      "  First     Last  Treatment A  Treatment B\n",
      "0  John    Smith          NaN            2\n",
      "1  Jane      Doe         16.0           11\n",
      "2  Mary  Johnson          3.0            1\n"
     ]
    }
   ],
   "source": [
    "messy = pd.DataFrame({'First' : ['John', 'Jane', 'Mary'], \n",
    "                      'Last' : ['Smith', 'Doe', 'Johnson'], \n",
    "                      'Treatment A' : [np.nan, 16, 3], \n",
    "                      'Treatment B' : [2, 11, 1]})\n",
    "print(messy)"
   ]
  },
  {
   "cell_type": "code",
   "execution_count": 8,
   "metadata": {
    "collapsed": false
   },
   "outputs": [],
   "source": [
    "messy.to_csv(path_or_buf='datasets/messy.csv',sep=',',index=False)"
   ]
  },
  {
   "cell_type": "code",
   "execution_count": 12,
   "metadata": {
    "collapsed": false
   },
   "outputs": [
    {
     "name": "stdout",
     "output_type": "stream",
     "text": [
      "   year  avg_free  avg_reduced  avg_full\n",
      "0  1969       2.9          0.0      16.5\n",
      "1  1970       4.6          0.0      17.8\n",
      "2  1971       5.8          0.5      17.8\n",
      "3  1972       7.3          0.5      16.6\n",
      "4  1973       8.1          0.5      16.1\n",
      "5  1974       8.6          0.5      15.5\n"
     ]
    }
   ],
   "source": [
    "lunch = pd.read_csv('datasets/lunch.csv',sep=',',nrows=6)\n",
    "lunch.drop(lunch.columns[[4, 5, 6]], axis=1, inplace=True)\n",
    "print(lunch)"
   ]
  },
  {
   "cell_type": "code",
   "execution_count": 13,
   "metadata": {
    "collapsed": false
   },
   "outputs": [],
   "source": [
    "lunch.to_csv('datasets/df2.csv',sep=',', index=False)"
   ]
  },
  {
   "cell_type": "code",
   "execution_count": 17,
   "metadata": {
    "collapsed": false
   },
   "outputs": [
    {
     "name": "stdout",
     "output_type": "stream",
     "text": [
      "        Name  Brown  Blue  Black\n",
      "0     Esther      0     1      0\n",
      "1  Elizabeth      1     0      0\n",
      "2   Michelle      0     0      1\n"
     ]
    }
   ],
   "source": [
    "eye_color = pd.DataFrame({'Name' : ['Esther', 'Elizabeth', 'Michelle'], \n",
    "                      'Brown' : [0, 1, 0], \n",
    "                      'Blue' : [1, 0, 0],\n",
    "                      'Black':[0, 0, 1]})\n",
    "eye_color = eye_color[['Name','Brown','Blue','Black']]\n",
    "print(eye_color)"
   ]
  },
  {
   "cell_type": "code",
   "execution_count": 18,
   "metadata": {
    "collapsed": true
   },
   "outputs": [],
   "source": [
    "eye_color.to_csv('datasets/eye_color.csv', sep=',', index=False)"
   ]
  },
  {
   "cell_type": "code",
   "execution_count": null,
   "metadata": {
    "collapsed": true
   },
   "outputs": [],
   "source": []
  }
 ],
 "metadata": {
  "anaconda-cloud": {},
  "kernelspec": {
   "display_name": "Python [Root]",
   "language": "python",
   "name": "Python [Root]"
  },
  "language_info": {
   "codemirror_mode": {
    "name": "ipython",
    "version": 3
   },
   "file_extension": ".py",
   "mimetype": "text/x-python",
   "name": "python",
   "nbconvert_exporter": "python",
   "pygments_lexer": "ipython3",
   "version": "3.5.1"
  }
 },
 "nbformat": 4,
 "nbformat_minor": 0
}
