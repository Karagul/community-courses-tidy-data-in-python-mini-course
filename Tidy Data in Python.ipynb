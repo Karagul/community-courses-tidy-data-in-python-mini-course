{
 "cells": [
  {
   "cell_type": "markdown",
   "metadata": {
    "collapsed": true
   },
   "source": [
    "# Tidy Data in Python"
   ]
  },
  {
   "cell_type": "markdown",
   "metadata": {},
   "source": [
    "## Tidy data and messy data"
   ]
  },
  {
   "cell_type": "code",
   "execution_count": 4,
   "metadata": {
    "collapsed": false
   },
   "outputs": [],
   "source": [
    "import pandas as pd"
   ]
  },
  {
   "cell_type": "code",
   "execution_count": 5,
   "metadata": {
    "collapsed": false
   },
   "outputs": [
    {
     "name": "stdout",
     "output_type": "stream",
     "text": [
      "  First     Last  Treatment A  Treatment B\n",
      "0  John    Smith          NaN            2\n",
      "1  Jane      Doe         16.0           11\n",
      "2  Mary  Johnson          3.0            1\n"
     ]
    }
   ],
   "source": [
    "#example showing a violation of rule 2\n",
    "messy = pd.read_csv('datasets/messy.csv', sep=',')\n",
    "print(messy)"
   ]
  },
  {
   "cell_type": "code",
   "execution_count": 10,
   "metadata": {
    "collapsed": false
   },
   "outputs": [
    {
     "name": "stdout",
     "output_type": "stream",
     "text": [
      "      owner  type  num\n",
      "0     Jason   dog    2\n",
      "1     Jason   cat    4\n",
      "2     Jason  bird    3\n",
      "3      Lisa   dog    7\n",
      "4      Lisa   cat   10\n",
      "5      Lisa  bird    9\n",
      "6  Terrence   dog    8\n",
      "7  Terrence   cat    5\n",
      "8  Terrence  bird    1\n",
      "\n",
      "   year  avg_free  avg_reduced  avg_full\n",
      "0  1969       2.9          0.0      16.5\n",
      "1  1970       4.6          0.0      17.8\n",
      "2  1971       5.8          0.5      17.8\n",
      "3  1972       7.3          0.5      16.6\n",
      "4  1973       8.1          0.5      16.1\n",
      "5  1974       8.6          0.5      15.5\n"
     ]
    }
   ],
   "source": [
    "#two datasets for multiple choice question\n",
    "df1 = pd.read_csv('datasets/df1.csv', sep = ',')\n",
    "df2 = pd.read_csv('datasets/df2.csv', sep = ',')\n",
    "\n",
    "print(df1)\n",
    "print()\n",
    "print(df2)"
   ]
  },
  {
   "cell_type": "markdown",
   "metadata": {},
   "source": [
    "Which dataset is messy and why?\n",
    "\n",
    "A. df1 is messy because ..."
   ]
  },
  {
   "cell_type": "markdown",
   "metadata": {},
   "source": [
    "## Melt"
   ]
  },
  {
   "cell_type": "code",
   "execution_count": 14,
   "metadata": {
    "collapsed": false
   },
   "outputs": [
    {
     "name": "stdout",
     "output_type": "stream",
     "text": [
      "    year     variable  value\n",
      "0   1969     avg_free    2.9\n",
      "1   1970     avg_free    4.6\n",
      "2   1971     avg_free    5.8\n",
      "3   1972     avg_free    7.3\n",
      "4   1973     avg_free    8.1\n",
      "5   1974     avg_free    8.6\n",
      "6   1969  avg_reduced    0.0\n",
      "7   1970  avg_reduced    0.0\n",
      "8   1971  avg_reduced    0.5\n",
      "9   1972  avg_reduced    0.5\n",
      "10  1973  avg_reduced    0.5\n",
      "11  1974  avg_reduced    0.5\n",
      "12  1969     avg_full   16.5\n",
      "13  1970     avg_full   17.8\n",
      "14  1971     avg_full   17.8\n",
      "15  1972     avg_full   16.6\n",
      "16  1973     avg_full   16.1\n",
      "17  1974     avg_full   15.5\n"
     ]
    }
   ],
   "source": [
    "df2_tidy = pd.melt(df2, id_vars=['year'])\n",
    "print(df2_tidy)"
   ]
  },
  {
   "cell_type": "markdown",
   "metadata": {},
   "source": [
    "## Renaming Columns"
   ]
  },
  {
   "cell_type": "code",
   "execution_count": 16,
   "metadata": {
    "collapsed": false
   },
   "outputs": [
    {
     "name": "stdout",
     "output_type": "stream",
     "text": [
      "    year lunch option  people\n",
      "0   1969     avg_free     2.9\n",
      "1   1970     avg_free     4.6\n",
      "2   1971     avg_free     5.8\n",
      "3   1972     avg_free     7.3\n",
      "4   1973     avg_free     8.1\n",
      "5   1974     avg_free     8.6\n",
      "6   1969  avg_reduced     0.0\n",
      "7   1970  avg_reduced     0.0\n",
      "8   1971  avg_reduced     0.5\n",
      "9   1972  avg_reduced     0.5\n",
      "10  1973  avg_reduced     0.5\n",
      "11  1974  avg_reduced     0.5\n",
      "12  1969     avg_full    16.5\n",
      "13  1970     avg_full    17.8\n",
      "14  1971     avg_full    17.8\n",
      "15  1972     avg_full    16.6\n",
      "16  1973     avg_full    16.1\n",
      "17  1974     avg_full    15.5\n"
     ]
    }
   ],
   "source": [
    "df2_tidy.rename(columns = {'variable':'lunch option','value':'people'}, inplace = True)\n",
    "print(df2_tidy)"
   ]
  },
  {
   "cell_type": "markdown",
   "metadata": {},
   "source": [
    "## More Messiness"
   ]
  },
  {
   "cell_type": "code",
   "execution_count": 18,
   "metadata": {
    "collapsed": false
   },
   "outputs": [
    {
     "name": "stdout",
     "output_type": "stream",
     "text": [
      "        Name  Brown  Blue  Black\n",
      "0     Esther      0     1      0\n",
      "1  Elizabeth      1     0      0\n",
      "2   Michelle      0     0      1\n"
     ]
    }
   ],
   "source": [
    "eye_color = pd.read_csv('datasets/eye_color.csv',sep=',')\n",
    "print(eye_color)"
   ]
  },
  {
   "cell_type": "markdown",
   "metadata": {},
   "source": [
    "What rule does this dataset violate?"
   ]
  },
  {
   "cell_type": "markdown",
   "metadata": {},
   "source": [
    "## Deal with it!"
   ]
  },
  {
   "cell_type": "code",
   "execution_count": 39,
   "metadata": {
    "collapsed": false
   },
   "outputs": [
    {
     "name": "stdout",
     "output_type": "stream",
     "text": [
      "        Name variable  value\n",
      "0     Esther    Brown      0\n",
      "1  Elizabeth    Brown      1\n",
      "2   Michelle    Brown      0\n",
      "3     Esther     Blue      1\n",
      "4  Elizabeth     Blue      0\n",
      "5   Michelle     Blue      0\n",
      "6     Esther    Black      0\n",
      "7  Elizabeth    Black      0\n",
      "8   Michelle    Black      1\n"
     ]
    }
   ],
   "source": [
    "eye_color_tidy = pd.melt(eye_color, id_vars = ['Name'])\n",
    "print(eye_color_tidy)"
   ]
  },
  {
   "cell_type": "markdown",
   "metadata": {},
   "source": [
    "## Further Cleaning"
   ]
  },
  {
   "cell_type": "code",
   "execution_count": 40,
   "metadata": {
    "collapsed": false,
    "scrolled": true
   },
   "outputs": [
    {
     "name": "stdout",
     "output_type": "stream",
     "text": [
      "        Name variable  value\n",
      "1  Elizabeth    Brown      1\n",
      "3     Esther     Blue      1\n",
      "8   Michelle    Black      1\n",
      "\n",
      "        Name variable\n",
      "1  Elizabeth    Brown\n",
      "3     Esther     Blue\n",
      "8   Michelle    Black\n",
      "\n",
      "        Name eye color\n",
      "1  Elizabeth     Brown\n",
      "3     Esther      Blue\n",
      "8   Michelle     Black\n"
     ]
    }
   ],
   "source": [
    "eye_color_tidy = eye_color_tidy[eye_color_tidy.value == 1]\n",
    "print(eye_color_tidy)\n",
    "\n",
    "del eye_color_tidy['value']\n",
    "print()\n",
    "print(eye_color_tidy)\n",
    "\n",
    "eye_color_tidy.rename(columns = {'variable':'eye color'}, inplace = True)\n",
    "print()\n",
    "print(eye_color_tidy)"
   ]
  },
  {
   "cell_type": "code",
   "execution_count": null,
   "metadata": {
    "collapsed": true
   },
   "outputs": [],
   "source": []
  },
  {
   "cell_type": "code",
   "execution_count": null,
   "metadata": {
    "collapsed": true
   },
   "outputs": [],
   "source": []
  }
 ],
 "metadata": {
  "anaconda-cloud": {},
  "kernelspec": {
   "display_name": "Python [Root]",
   "language": "python",
   "name": "Python [Root]"
  },
  "language_info": {
   "codemirror_mode": {
    "name": "ipython",
    "version": 3
   },
   "file_extension": ".py",
   "mimetype": "text/x-python",
   "name": "python",
   "nbconvert_exporter": "python",
   "pygments_lexer": "ipython3",
   "version": "3.5.1"
  }
 },
 "nbformat": 4,
 "nbformat_minor": 0
}
